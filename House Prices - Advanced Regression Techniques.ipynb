{
 "cells": [
  {
   "cell_type": "markdown",
   "id": "43d85e83",
   "metadata": {},
   "source": [
    "# House Prices - Advanced Regression Techniques\n",
    "\n",
    "In this competition, we want to **predict** the price of each house based on 79 variables that describe the residences located in Ames, Iowa. For more information about this competition, you can visit [here](https://www.kaggle.com/c/house-prices-advanced-regression-techniques).\n",
    "\n",
    "In this notebook, I tried to apply different machine learning algorithms for regression."
   ]
  },
  {
   "cell_type": "markdown",
   "id": "798a0190",
   "metadata": {},
   "source": [
    "## 1. Introduction"
   ]
  },
  {
   "cell_type": "code",
   "execution_count": 1,
   "id": "9d2bfe1b",
   "metadata": {
    "ExecuteTime": {
     "end_time": "2021-11-15T20:44:49.441930Z",
     "start_time": "2021-11-15T20:44:47.344287Z"
    }
   },
   "outputs": [],
   "source": [
    "# Load libraries\n",
    "import pandas as pd\n",
    "import numpy as np\n",
    "import matplotlib.pyplot as plt\n",
    "import seaborn as sns\n",
    "%matplotlib inline\n",
    "\n",
    "# Preprocessing and machine learning\n",
    "from sklearn.preprocessing import RobustScaler\n",
    "from sklearn.model_selection import GridSearchCV\n",
    "from sklearn.model_selection import cross_val_score"
   ]
  },
  {
   "cell_type": "code",
   "execution_count": 2,
   "id": "bbc08fc3",
   "metadata": {
    "ExecuteTime": {
     "end_time": "2021-11-15T20:44:49.520772Z",
     "start_time": "2021-11-15T20:44:49.444915Z"
    }
   },
   "outputs": [
    {
     "name": "stdout",
     "output_type": "stream",
     "text": [
      "The training data contains 1460 rows and 81 columns.\n",
      "The training data contains 1459 rows and 79 columns.\n"
     ]
    }
   ],
   "source": [
    "# Load data\n",
    "df_train = pd.read_csv(\"C:/Users/Seyong Ryoo/OneDrive/Kaggle/Houses Prices/data/train.csv\")\n",
    "df_test = pd.read_csv(\"C:/Users/Seyong Ryoo/OneDrive/Kaggle/Houses Prices/data/test.csv\", index_col='Id')\n",
    "pd.set_option('display.max_rows', df_train.shape[0]+1)\n",
    "print('The training data contains', df_train.shape[0], 'rows and', df_train.shape[1], 'columns.')\n",
    "print('The training data contains', df_test.shape[0], 'rows and', df_test.shape[1], 'columns.')"
   ]
  },
  {
   "cell_type": "code",
   "execution_count": 3,
   "id": "eb62f13a",
   "metadata": {
    "ExecuteTime": {
     "end_time": "2021-11-15T20:44:49.567589Z",
     "start_time": "2021-11-15T20:44:49.522708Z"
    }
   },
   "outputs": [
    {
     "data": {
      "text/html": [
       "<div>\n",
       "<style scoped>\n",
       "    .dataframe tbody tr th:only-of-type {\n",
       "        vertical-align: middle;\n",
       "    }\n",
       "\n",
       "    .dataframe tbody tr th {\n",
       "        vertical-align: top;\n",
       "    }\n",
       "\n",
       "    .dataframe thead th {\n",
       "        text-align: right;\n",
       "    }\n",
       "</style>\n",
       "<table border=\"1\" class=\"dataframe\">\n",
       "  <thead>\n",
       "    <tr style=\"text-align: right;\">\n",
       "      <th></th>\n",
       "      <th>Id</th>\n",
       "      <th>MSSubClass</th>\n",
       "      <th>MSZoning</th>\n",
       "      <th>LotFrontage</th>\n",
       "      <th>LotArea</th>\n",
       "      <th>Street</th>\n",
       "      <th>Alley</th>\n",
       "      <th>LotShape</th>\n",
       "      <th>LandContour</th>\n",
       "      <th>Utilities</th>\n",
       "      <th>...</th>\n",
       "      <th>PoolArea</th>\n",
       "      <th>PoolQC</th>\n",
       "      <th>Fence</th>\n",
       "      <th>MiscFeature</th>\n",
       "      <th>MiscVal</th>\n",
       "      <th>MoSold</th>\n",
       "      <th>YrSold</th>\n",
       "      <th>SaleType</th>\n",
       "      <th>SaleCondition</th>\n",
       "      <th>SalePrice</th>\n",
       "    </tr>\n",
       "  </thead>\n",
       "  <tbody>\n",
       "    <tr>\n",
       "      <th>0</th>\n",
       "      <td>1</td>\n",
       "      <td>60</td>\n",
       "      <td>RL</td>\n",
       "      <td>65.0</td>\n",
       "      <td>8450</td>\n",
       "      <td>Pave</td>\n",
       "      <td>NaN</td>\n",
       "      <td>Reg</td>\n",
       "      <td>Lvl</td>\n",
       "      <td>AllPub</td>\n",
       "      <td>...</td>\n",
       "      <td>0</td>\n",
       "      <td>NaN</td>\n",
       "      <td>NaN</td>\n",
       "      <td>NaN</td>\n",
       "      <td>0</td>\n",
       "      <td>2</td>\n",
       "      <td>2008</td>\n",
       "      <td>WD</td>\n",
       "      <td>Normal</td>\n",
       "      <td>208500</td>\n",
       "    </tr>\n",
       "    <tr>\n",
       "      <th>1</th>\n",
       "      <td>2</td>\n",
       "      <td>20</td>\n",
       "      <td>RL</td>\n",
       "      <td>80.0</td>\n",
       "      <td>9600</td>\n",
       "      <td>Pave</td>\n",
       "      <td>NaN</td>\n",
       "      <td>Reg</td>\n",
       "      <td>Lvl</td>\n",
       "      <td>AllPub</td>\n",
       "      <td>...</td>\n",
       "      <td>0</td>\n",
       "      <td>NaN</td>\n",
       "      <td>NaN</td>\n",
       "      <td>NaN</td>\n",
       "      <td>0</td>\n",
       "      <td>5</td>\n",
       "      <td>2007</td>\n",
       "      <td>WD</td>\n",
       "      <td>Normal</td>\n",
       "      <td>181500</td>\n",
       "    </tr>\n",
       "    <tr>\n",
       "      <th>2</th>\n",
       "      <td>3</td>\n",
       "      <td>60</td>\n",
       "      <td>RL</td>\n",
       "      <td>68.0</td>\n",
       "      <td>11250</td>\n",
       "      <td>Pave</td>\n",
       "      <td>NaN</td>\n",
       "      <td>IR1</td>\n",
       "      <td>Lvl</td>\n",
       "      <td>AllPub</td>\n",
       "      <td>...</td>\n",
       "      <td>0</td>\n",
       "      <td>NaN</td>\n",
       "      <td>NaN</td>\n",
       "      <td>NaN</td>\n",
       "      <td>0</td>\n",
       "      <td>9</td>\n",
       "      <td>2008</td>\n",
       "      <td>WD</td>\n",
       "      <td>Normal</td>\n",
       "      <td>223500</td>\n",
       "    </tr>\n",
       "    <tr>\n",
       "      <th>3</th>\n",
       "      <td>4</td>\n",
       "      <td>70</td>\n",
       "      <td>RL</td>\n",
       "      <td>60.0</td>\n",
       "      <td>9550</td>\n",
       "      <td>Pave</td>\n",
       "      <td>NaN</td>\n",
       "      <td>IR1</td>\n",
       "      <td>Lvl</td>\n",
       "      <td>AllPub</td>\n",
       "      <td>...</td>\n",
       "      <td>0</td>\n",
       "      <td>NaN</td>\n",
       "      <td>NaN</td>\n",
       "      <td>NaN</td>\n",
       "      <td>0</td>\n",
       "      <td>2</td>\n",
       "      <td>2006</td>\n",
       "      <td>WD</td>\n",
       "      <td>Abnorml</td>\n",
       "      <td>140000</td>\n",
       "    </tr>\n",
       "    <tr>\n",
       "      <th>4</th>\n",
       "      <td>5</td>\n",
       "      <td>60</td>\n",
       "      <td>RL</td>\n",
       "      <td>84.0</td>\n",
       "      <td>14260</td>\n",
       "      <td>Pave</td>\n",
       "      <td>NaN</td>\n",
       "      <td>IR1</td>\n",
       "      <td>Lvl</td>\n",
       "      <td>AllPub</td>\n",
       "      <td>...</td>\n",
       "      <td>0</td>\n",
       "      <td>NaN</td>\n",
       "      <td>NaN</td>\n",
       "      <td>NaN</td>\n",
       "      <td>0</td>\n",
       "      <td>12</td>\n",
       "      <td>2008</td>\n",
       "      <td>WD</td>\n",
       "      <td>Normal</td>\n",
       "      <td>250000</td>\n",
       "    </tr>\n",
       "  </tbody>\n",
       "</table>\n",
       "<p>5 rows × 81 columns</p>\n",
       "</div>"
      ],
      "text/plain": [
       "   Id  MSSubClass MSZoning  LotFrontage  LotArea Street Alley LotShape  \\\n",
       "0   1          60       RL         65.0     8450   Pave   NaN      Reg   \n",
       "1   2          20       RL         80.0     9600   Pave   NaN      Reg   \n",
       "2   3          60       RL         68.0    11250   Pave   NaN      IR1   \n",
       "3   4          70       RL         60.0     9550   Pave   NaN      IR1   \n",
       "4   5          60       RL         84.0    14260   Pave   NaN      IR1   \n",
       "\n",
       "  LandContour Utilities  ... PoolArea PoolQC Fence MiscFeature MiscVal MoSold  \\\n",
       "0         Lvl    AllPub  ...        0    NaN   NaN         NaN       0      2   \n",
       "1         Lvl    AllPub  ...        0    NaN   NaN         NaN       0      5   \n",
       "2         Lvl    AllPub  ...        0    NaN   NaN         NaN       0      9   \n",
       "3         Lvl    AllPub  ...        0    NaN   NaN         NaN       0      2   \n",
       "4         Lvl    AllPub  ...        0    NaN   NaN         NaN       0     12   \n",
       "\n",
       "  YrSold  SaleType  SaleCondition  SalePrice  \n",
       "0   2008        WD         Normal     208500  \n",
       "1   2007        WD         Normal     181500  \n",
       "2   2008        WD         Normal     223500  \n",
       "3   2006        WD        Abnorml     140000  \n",
       "4   2008        WD         Normal     250000  \n",
       "\n",
       "[5 rows x 81 columns]"
      ]
     },
     "execution_count": 3,
     "metadata": {},
     "output_type": "execute_result"
    }
   ],
   "source": [
    "df_train.head()"
   ]
  },
  {
   "cell_type": "markdown",
   "id": "f807d5f8",
   "metadata": {},
   "source": [
    "A total of 19 variables have missing values."
   ]
  },
  {
   "cell_type": "code",
   "execution_count": 4,
   "id": "a911488d",
   "metadata": {
    "ExecuteTime": {
     "end_time": "2021-11-15T20:44:49.613494Z",
     "start_time": "2021-11-15T20:44:49.572576Z"
    },
    "scrolled": false
   },
   "outputs": [
    {
     "name": "stdout",
     "output_type": "stream",
     "text": [
      "LotFrontage      259\n",
      "Alley           1369\n",
      "MasVnrType         8\n",
      "MasVnrArea         8\n",
      "BsmtQual          37\n",
      "BsmtCond          37\n",
      "BsmtExposure      38\n",
      "BsmtFinType1      37\n",
      "BsmtFinType2      38\n",
      "Electrical         1\n",
      "FireplaceQu      690\n",
      "GarageType        81\n",
      "GarageYrBlt       81\n",
      "GarageFinish      81\n",
      "GarageQual        81\n",
      "GarageCond        81\n",
      "PoolQC          1453\n",
      "Fence           1179\n",
      "MiscFeature     1406\n",
      "dtype: int64\n",
      "19\n"
     ]
    }
   ],
   "source": [
    "print(df_train.isna().sum()[df_train.isna().sum() > 0])\n",
    "print(df_train.isna().sum()[df_train.isna().sum() > 0].count())"
   ]
  },
  {
   "cell_type": "markdown",
   "id": "edfb017d",
   "metadata": {},
   "source": [
    "## 2. Variable selection\n",
    "\n",
    "We selected only the variables that have the correlation with the dependent variable, `SalePrice`, larger than 0.5 or smaller than -0.5."
   ]
  },
  {
   "cell_type": "code",
   "execution_count": 5,
   "id": "958fb6fe",
   "metadata": {
    "ExecuteTime": {
     "end_time": "2021-11-15T20:44:49.645418Z",
     "start_time": "2021-11-15T20:44:49.615461Z"
    }
   },
   "outputs": [
    {
     "name": "stdout",
     "output_type": "stream",
     "text": [
      "SalePrice       1.000000\n",
      "OverallQual     0.790982\n",
      "GrLivArea       0.708624\n",
      "GarageCars      0.640409\n",
      "GarageArea      0.623431\n",
      "TotalBsmtSF     0.613581\n",
      "1stFlrSF        0.605852\n",
      "FullBath        0.560664\n",
      "TotRmsAbvGrd    0.533723\n",
      "YearBuilt       0.522897\n",
      "YearRemodAdd    0.507101\n",
      "Name: SalePrice, dtype: float64\n",
      "There are 10 selected variables.\n"
     ]
    }
   ],
   "source": [
    "corr_ordered = df_train.corr().nlargest(81, 'SalePrice')['SalePrice']\n",
    "corr_ordered_cut = corr_ordered[(corr_ordered > 0.5) | (corr_ordered < -0.5)]\n",
    "print(corr_ordered_cut)\n",
    "print('There are', len(corr_ordered_cut)-1, 'selected variables.')"
   ]
  },
  {
   "cell_type": "markdown",
   "id": "39dff550",
   "metadata": {},
   "source": [
    "Then, with these features, we drew a heatmap to see how they are correlated and we dropped some features to avoid multicollinearity.  According to the heatmap, the correlation between `GarageCars` and `GarageArea` was 0.88 and we decided to drop `GarageArea` as its correlation with `SalePrice` is smaller. In the same way,  `1stFlrSF` and `TotRmsAbvGrd` were filtered out.\n",
    "\n",
    "After creating a new training data where the irrelevant and the above-mentioned variables were deleted, we looked at whether there were missing values."
   ]
  },
  {
   "cell_type": "code",
   "execution_count": 6,
   "id": "010571eb",
   "metadata": {
    "ExecuteTime": {
     "end_time": "2021-11-15T20:44:50.423765Z",
     "start_time": "2021-11-15T20:44:49.647381Z"
    },
    "scrolled": true
   },
   "outputs": [
    {
     "data": {
      "text/plain": [
       "<AxesSubplot:>"
      ]
     },
     "execution_count": 6,
     "metadata": {},
     "output_type": "execute_result"
    },
    {
     "data": {
      "image/png": "[encoded data removed]",
      "text/plain": [
       "<Figure size 432x288 with 2 Axes>"
      ]
     },
     "metadata": {
      "needs_background": "light"
     },
     "output_type": "display_data"
    }
   ],
   "source": [
    "sns.heatmap(np.corrcoef(df_train[corr_ordered_cut.index].values.T), annot=True,\n",
    "            xticklabels=corr_ordered_cut.index, yticklabels=corr_ordered_cut.index)"
   ]
  },
  {
   "cell_type": "code",
   "execution_count": 7,
   "id": "f4d58c4a",
   "metadata": {
    "ExecuteTime": {
     "end_time": "2021-11-15T20:44:50.454693Z",
     "start_time": "2021-11-15T20:44:50.425736Z"
    }
   },
   "outputs": [
    {
     "data": {
      "text/html": [
       "<div>\n",
       "<style scoped>\n",
       "    .dataframe tbody tr th:only-of-type {\n",
       "        vertical-align: middle;\n",
       "    }\n",
       "\n",
       "    .dataframe tbody tr th {\n",
       "        vertical-align: top;\n",
       "    }\n",
       "\n",
       "    .dataframe thead th {\n",
       "        text-align: right;\n",
       "    }\n",
       "</style>\n",
       "<table border=\"1\" class=\"dataframe\">\n",
       "  <thead>\n",
       "    <tr style=\"text-align: right;\">\n",
       "      <th></th>\n",
       "      <th>SalePrice</th>\n",
       "      <th>OverallQual</th>\n",
       "      <th>GrLivArea</th>\n",
       "      <th>GarageCars</th>\n",
       "      <th>TotalBsmtSF</th>\n",
       "      <th>FullBath</th>\n",
       "      <th>YearBuilt</th>\n",
       "      <th>YearRemodAdd</th>\n",
       "    </tr>\n",
       "  </thead>\n",
       "  <tbody>\n",
       "    <tr>\n",
       "      <th>0</th>\n",
       "      <td>208500</td>\n",
       "      <td>7</td>\n",
       "      <td>1710</td>\n",
       "      <td>2</td>\n",
       "      <td>856</td>\n",
       "      <td>2</td>\n",
       "      <td>2003</td>\n",
       "      <td>2003</td>\n",
       "    </tr>\n",
       "    <tr>\n",
       "      <th>1</th>\n",
       "      <td>181500</td>\n",
       "      <td>6</td>\n",
       "      <td>1262</td>\n",
       "      <td>2</td>\n",
       "      <td>1262</td>\n",
       "      <td>2</td>\n",
       "      <td>1976</td>\n",
       "      <td>1976</td>\n",
       "    </tr>\n",
       "    <tr>\n",
       "      <th>2</th>\n",
       "      <td>223500</td>\n",
       "      <td>7</td>\n",
       "      <td>1786</td>\n",
       "      <td>2</td>\n",
       "      <td>920</td>\n",
       "      <td>2</td>\n",
       "      <td>2001</td>\n",
       "      <td>2002</td>\n",
       "    </tr>\n",
       "    <tr>\n",
       "      <th>3</th>\n",
       "      <td>140000</td>\n",
       "      <td>7</td>\n",
       "      <td>1717</td>\n",
       "      <td>3</td>\n",
       "      <td>756</td>\n",
       "      <td>1</td>\n",
       "      <td>1915</td>\n",
       "      <td>1970</td>\n",
       "    </tr>\n",
       "    <tr>\n",
       "      <th>4</th>\n",
       "      <td>250000</td>\n",
       "      <td>8</td>\n",
       "      <td>2198</td>\n",
       "      <td>3</td>\n",
       "      <td>1145</td>\n",
       "      <td>2</td>\n",
       "      <td>2000</td>\n",
       "      <td>2000</td>\n",
       "    </tr>\n",
       "  </tbody>\n",
       "</table>\n",
       "</div>"
      ],
      "text/plain": [
       "   SalePrice  OverallQual  GrLivArea  GarageCars  TotalBsmtSF  FullBath  \\\n",
       "0     208500            7       1710           2          856         2   \n",
       "1     181500            6       1262           2         1262         2   \n",
       "2     223500            7       1786           2          920         2   \n",
       "3     140000            7       1717           3          756         1   \n",
       "4     250000            8       2198           3         1145         2   \n",
       "\n",
       "   YearBuilt  YearRemodAdd  \n",
       "0       2003          2003  \n",
       "1       1976          1976  \n",
       "2       2001          2002  \n",
       "3       1915          1970  \n",
       "4       2000          2000  "
      ]
     },
     "execution_count": 7,
     "metadata": {},
     "output_type": "execute_result"
    }
   ],
   "source": [
    "df_train_reduced = df_train[corr_ordered_cut.index.drop(['GarageArea', '1stFlrSF', 'TotRmsAbvGrd'])]\n",
    "df_train_reduced.head()"
   ]
  },
  {
   "cell_type": "code",
   "execution_count": 8,
   "id": "0b7fb441",
   "metadata": {
    "ExecuteTime": {
     "end_time": "2021-11-15T20:44:50.470653Z",
     "start_time": "2021-11-15T20:44:50.456653Z"
    }
   },
   "outputs": [
    {
     "data": {
      "text/plain": [
       "SalePrice       0\n",
       "OverallQual     0\n",
       "GrLivArea       0\n",
       "GarageCars      0\n",
       "TotalBsmtSF     0\n",
       "FullBath        0\n",
       "YearBuilt       0\n",
       "YearRemodAdd    0\n",
       "dtype: int64"
      ]
     },
     "execution_count": 8,
     "metadata": {},
     "output_type": "execute_result"
    }
   ],
   "source": [
    "# No missing data\n",
    "df_train_reduced.isna().sum()"
   ]
  },
  {
   "cell_type": "code",
   "execution_count": 9,
   "id": "3323d05c",
   "metadata": {
    "ExecuteTime": {
     "end_time": "2021-11-15T20:44:50.485580Z",
     "start_time": "2021-11-15T20:44:50.473609Z"
    }
   },
   "outputs": [
    {
     "data": {
      "text/plain": [
       "SalePrice       int64\n",
       "OverallQual     int64\n",
       "GrLivArea       int64\n",
       "GarageCars      int64\n",
       "TotalBsmtSF     int64\n",
       "FullBath        int64\n",
       "YearBuilt       int64\n",
       "YearRemodAdd    int64\n",
       "dtype: object"
      ]
     },
     "execution_count": 9,
     "metadata": {},
     "output_type": "execute_result"
    }
   ],
   "source": [
    "df_train_reduced.dtypes"
   ]
  },
  {
   "cell_type": "code",
   "execution_count": 10,
   "id": "6e4ca22e",
   "metadata": {
    "ExecuteTime": {
     "end_time": "2021-11-15T20:44:50.501564Z",
     "start_time": "2021-11-15T20:44:50.490566Z"
    }
   },
   "outputs": [],
   "source": [
    "# Split into dependent variable and design matrix\n",
    "y_train = df_train_reduced['SalePrice']\n",
    "X_train= df_train_reduced.drop('SalePrice', axis=1)"
   ]
  },
  {
   "cell_type": "markdown",
   "id": "7fe4b06d",
   "metadata": {},
   "source": [
    "## 3. Preprocessing\n",
    "\n",
    "Before applying several regression models that might help explain `SalePrice` using the covariates in the design matrix, we standardized the training data by using a scaler which is robust to outliers. You can find more information about the robust scaler [here](https://scikit-learn.org/stable/modules/generated/sklearn.preprocessing.RobustScaler.html)."
   ]
  },
  {
   "cell_type": "code",
   "execution_count": 11,
   "id": "a423262c",
   "metadata": {
    "ExecuteTime": {
     "end_time": "2021-11-15T20:44:50.533448Z",
     "start_time": "2021-11-15T20:44:50.504529Z"
    }
   },
   "outputs": [],
   "source": [
    "# Standardization\n",
    "scaler = RobustScaler()\n",
    "X_train = scaler.fit_transform(X_train)"
   ]
  },
  {
   "cell_type": "markdown",
   "id": "88056d44",
   "metadata": {},
   "source": [
    "## 1. [Linear regression](https://scikit-learn.org/stable/modules/generated/sklearn.linear_model.LinearRegression.html)\n",
    "\n",
    "Linear regression tries to explain the relationship between the dependent variable and covariates using a linear function of the covariates."
   ]
  },
  {
   "cell_type": "code",
   "execution_count": 12,
   "id": "f537c5b7",
   "metadata": {
    "ExecuteTime": {
     "end_time": "2021-11-15T20:44:50.847961Z",
     "start_time": "2021-11-15T20:44:50.536441Z"
    }
   },
   "outputs": [
    {
     "name": "stdout",
     "output_type": "stream",
     "text": [
      "The root mean squared error using linear regression: 38454.6432\n"
     ]
    }
   ],
   "source": [
    "from sklearn.linear_model import LinearRegression\n",
    "lm = LinearRegression()\n",
    "rmse_lm = np.sqrt(-cross_val_score(lm, X_train, y_train, cv=5, scoring='neg_mean_squared_error')).mean()\n",
    "print('The root mean squared error using linear regression:', round(rmse_lm, 4))"
   ]
  },
  {
   "cell_type": "markdown",
   "id": "a3d480a8",
   "metadata": {},
   "source": [
    "## 2. [Stochastic Gradient Descent (SGD) Regressor](https://scikit-learn.org/stable/modules/generated/sklearn.linear_model.SGDRegressor.html#sklearn.linear_model.SGDRegressor)\n",
    "\n",
    "This regressor fits a regularized linear model by minimizing a loss with SGD learning."
   ]
  },
  {
   "cell_type": "code",
   "execution_count": 13,
   "id": "d3c948aa",
   "metadata": {
    "ExecuteTime": {
     "end_time": "2021-11-15T20:44:56.105364Z",
     "start_time": "2021-11-15T20:44:50.850513Z"
    }
   },
   "outputs": [
    {
     "name": "stdout",
     "output_type": "stream",
     "text": [
      "{'loss': 'squared_loss', 'penalty': 'l2'}\n",
      "38946.10115660087\n",
      "The root mean squared error using SGD regression: 38946.1012\n"
     ]
    }
   ],
   "source": [
    "import warnings\n",
    "warnings.filterwarnings('ignore')\n",
    "warnings.simplefilter('ignore')\n",
    "\n",
    "from sklearn.linear_model import SGDRegressor\n",
    "sgd = SGDRegressor(random_state=0)\n",
    "param_grid_sgd = [{'loss': ['squared_loss', 'huber', 'epsilon_insensitive', 'squared_epsilon_insensitive'],\n",
    "                  'penalty': ['l2', 'l1', 'elasticnet']}]\n",
    "grid_sgd = GridSearchCV(sgd, param_grid_sgd, cv=5, scoring='neg_mean_squared_error')\n",
    "grid_sgd.fit(X_train, y_train)\n",
    "print(grid_sgd.best_params_)\n",
    "print(np.sqrt(-grid_sgd.best_score_))\n",
    "print('The root mean squared error using SGD regression:', round(np.sqrt(-grid_sgd.best_score_), 4))"
   ]
  },
  {
   "cell_type": "markdown",
   "id": "91194e95",
   "metadata": {},
   "source": [
    "## 3. [Multi-Layer Perceptron (MLP) Regressor](https://scikit-learn.org/stable/modules/generated/sklearn.neural_network.MLPRegressor.html#sklearn.neural_network.MLPRegressor)"
   ]
  },
  {
   "cell_type": "code",
   "execution_count": 14,
   "id": "86480ba0",
   "metadata": {
    "ExecuteTime": {
     "end_time": "2021-11-15T21:21:08.852343Z",
     "start_time": "2021-11-15T20:44:56.107324Z"
    },
    "scrolled": true
   },
   "outputs": [
    {
     "name": "stdout",
     "output_type": "stream",
     "text": [
      "The root mean squared error using MLP regression: 38794.666\n",
      "{'activation': 'relu', 'hidden_layer_sizes': (5,), 'max_iter': 200, 'solver': 'lbfgs'}\n"
     ]
    }
   ],
   "source": [
    "import warnings\n",
    "warnings.filterwarnings('ignore')\n",
    "warnings.simplefilter('ignore')\n",
    "\n",
    "from sklearn.neural_network import MLPRegressor\n",
    "mlp = MLPRegressor(random_state=0)\n",
    "param_grid_mlp = [{'hidden_layer_sizes': [(5,), (10,)],\n",
    "                  'activation': ['identity', 'logistic', 'tanh', 'relu'],\n",
    "                  'solver': ['lbfgs', 'sgd', 'adam'],\n",
    "                  'max_iter': [200, 1000, 5000, 10000]}]\n",
    "grid_mlp = GridSearchCV(mlp, param_grid_mlp, cv=5, scoring='neg_mean_squared_error')\n",
    "grid_mlp.fit(X_train, y_train)\n",
    "print('The root mean squared error using MLP regression:', round(np.sqrt(-grid_mlp.best_score_),4))\n",
    "print(grid_mlp.best_params_)"
   ]
  },
  {
   "cell_type": "markdown",
   "id": "ef112847",
   "metadata": {},
   "source": [
    "## 4. [Linear Support Vector Regressor](https://scikit-learn.org/stable/modules/generated/sklearn.svm.LinearSVR.html#sklearn.svm.LinearSVR)"
   ]
  },
  {
   "cell_type": "code",
   "execution_count": 15,
   "id": "e2d68b4c",
   "metadata": {
    "ExecuteTime": {
     "end_time": "2021-11-15T21:21:12.903912Z",
     "start_time": "2021-11-15T21:21:08.854298Z"
    }
   },
   "outputs": [
    {
     "name": "stdout",
     "output_type": "stream",
     "text": [
      "The root mean squared error using linear support vector regression: 38946.0389\n",
      "{'C': 1, 'loss': 'squared_epsilon_insensitive', 'max_iter': 20000}\n"
     ]
    }
   ],
   "source": [
    "from sklearn.svm import LinearSVR\n",
    "lsvr = LinearSVR(random_state=0)\n",
    "param_grid_lsvr = [{'C': [0.001, 0.1, 1, 5],\n",
    "                   'loss': ['epsilon_insensitive', 'squared_epsilon_insensitive'],\n",
    "                   'max_iter': [20000, 50000]}]\n",
    "grid_lsvr = GridSearchCV(lsvr, param_grid_lsvr, cv=5, scoring='neg_mean_squared_error')\n",
    "grid_lsvr.fit(X_train, y_train)\n",
    "print('The root mean squared error using linear support vector regression:', round(np.sqrt(-grid_lsvr.best_score_),4))\n",
    "print(grid_lsvr.best_params_)"
   ]
  },
  {
   "cell_type": "markdown",
   "id": "4b72e784",
   "metadata": {},
   "source": [
    "## 5. [Random Forest Regressor](https://scikit-learn.org/stable/modules/generated/sklearn.ensemble.RandomForestRegressor.html#sklearn.ensemble.RandomForestRegressor)"
   ]
  },
  {
   "cell_type": "code",
   "execution_count": 16,
   "id": "293236fe",
   "metadata": {
    "ExecuteTime": {
     "end_time": "2021-11-15T21:22:56.750302Z",
     "start_time": "2021-11-15T21:21:12.906603Z"
    }
   },
   "outputs": [
    {
     "name": "stdout",
     "output_type": "stream",
     "text": [
      "The root mean squared error using random forest regression: 30858.548\n",
      "{'criterion': 'mae', 'max_depth': 20, 'max_features': 'sqrt', 'n_estimators': 50}\n"
     ]
    }
   ],
   "source": [
    "from sklearn.ensemble import RandomForestRegressor\n",
    "rf = RandomForestRegressor(random_state=0, n_jobs=-1)\n",
    "param_grid_rf = [{'n_estimators': [10, 50, 100],\n",
    "                'criterion': ['mse', 'mae'],\n",
    "                'max_depth': [None, 5, 10, 20], \n",
    "                'max_features': ['auto', 'sqrt', 'log2']}]\n",
    "grid_rf = GridSearchCV(rf, param_grid_rf, cv=5, scoring='neg_mean_squared_error')\n",
    "grid_rf.fit(X_train, y_train)\n",
    "print('The root mean squared error using random forest regression:', round(np.sqrt(-grid_rf.best_score_),4))\n",
    "print(grid_rf.best_params_)"
   ]
  },
  {
   "cell_type": "markdown",
   "id": "0e135438",
   "metadata": {},
   "source": [
    "From the table below that shows the root mean squared error using the regressors, we conclude that the random forest regression technique produced the best performance, that is, the smallest error. Then, we used this algorithm on the test data to predict `SalePrice`."
   ]
  },
  {
   "cell_type": "code",
   "execution_count": 17,
   "id": "eb1a08bd",
   "metadata": {
    "ExecuteTime": {
     "end_time": "2021-11-15T21:22:56.780223Z",
     "start_time": "2021-11-15T21:22:56.753294Z"
    },
    "scrolled": true
   },
   "outputs": [
    {
     "data": {
      "text/html": [
       "<div>\n",
       "<style scoped>\n",
       "    .dataframe tbody tr th:only-of-type {\n",
       "        vertical-align: middle;\n",
       "    }\n",
       "\n",
       "    .dataframe tbody tr th {\n",
       "        vertical-align: top;\n",
       "    }\n",
       "\n",
       "    .dataframe thead th {\n",
       "        text-align: right;\n",
       "    }\n",
       "</style>\n",
       "<table border=\"1\" class=\"dataframe\">\n",
       "  <thead>\n",
       "    <tr style=\"text-align: right;\">\n",
       "      <th></th>\n",
       "      <th>RMSE</th>\n",
       "    </tr>\n",
       "  </thead>\n",
       "  <tbody>\n",
       "    <tr>\n",
       "      <th>SGD</th>\n",
       "      <td>38946.101157</td>\n",
       "    </tr>\n",
       "    <tr>\n",
       "      <th>MLP</th>\n",
       "      <td>38794.666006</td>\n",
       "    </tr>\n",
       "    <tr>\n",
       "      <th>Linear SVM</th>\n",
       "      <td>38946.038854</td>\n",
       "    </tr>\n",
       "    <tr>\n",
       "      <th>Random Forest</th>\n",
       "      <td>30858.548011</td>\n",
       "    </tr>\n",
       "  </tbody>\n",
       "</table>\n",
       "</div>"
      ],
      "text/plain": [
       "                       RMSE\n",
       "SGD            38946.101157\n",
       "MLP            38794.666006\n",
       "Linear SVM     38946.038854\n",
       "Random Forest  30858.548011"
      ]
     },
     "execution_count": 17,
     "metadata": {},
     "output_type": "execute_result"
    }
   ],
   "source": [
    "pd.DataFrame([np.sqrt(-grid_sgd.best_score_), np.sqrt(-grid_mlp.best_score_),np.sqrt(-grid_lsvr.best_score_), np.sqrt(-grid_rf.best_score_)],\n",
    "             index = ['SGD', 'MLP', 'Linear SVM', 'Random Forest'], columns = ['RMSE'])"
   ]
  },
  {
   "cell_type": "code",
   "execution_count": 18,
   "id": "45c0dfb0",
   "metadata": {
    "ExecuteTime": {
     "end_time": "2021-11-15T21:22:56.811138Z",
     "start_time": "2021-11-15T21:22:56.783214Z"
    }
   },
   "outputs": [
    {
     "name": "stdout",
     "output_type": "stream",
     "text": [
      "OverallQual     0\n",
      "GrLivArea       0\n",
      "GarageCars      1\n",
      "TotalBsmtSF     1\n",
      "FullBath        0\n",
      "YearBuilt       0\n",
      "YearRemodAdd    0\n",
      "dtype: int64\n"
     ]
    }
   ],
   "source": [
    "X_test = df_test.loc[:, ['OverallQual', 'GrLivArea', 'GarageCars', 'TotalBsmtSF', 'FullBath', 'YearBuilt', 'YearRemodAdd']]\n",
    "\n",
    "# Transforming test data\n",
    "print(X_test.isna().sum())\n",
    "\n",
    "fill = {'GarageCars': df_train['GarageCars'].median(), 'TotalBsmtSF': df_train['TotalBsmtSF'].median()}\n",
    "X_test.fillna(fill, inplace=True)\n",
    "\n",
    "X_test_transform = scaler.transform(X_test)"
   ]
  },
  {
   "cell_type": "code",
   "execution_count": 19,
   "id": "bad96f48",
   "metadata": {
    "ExecuteTime": {
     "end_time": "2021-11-15T21:22:56.920846Z",
     "start_time": "2021-11-15T21:22:56.814132Z"
    },
    "scrolled": true
   },
   "outputs": [
    {
     "data": {
      "text/html": [
       "<div>\n",
       "<style scoped>\n",
       "    .dataframe tbody tr th:only-of-type {\n",
       "        vertical-align: middle;\n",
       "    }\n",
       "\n",
       "    .dataframe tbody tr th {\n",
       "        vertical-align: top;\n",
       "    }\n",
       "\n",
       "    .dataframe thead th {\n",
       "        text-align: right;\n",
       "    }\n",
       "</style>\n",
       "<table border=\"1\" class=\"dataframe\">\n",
       "  <thead>\n",
       "    <tr style=\"text-align: right;\">\n",
       "      <th></th>\n",
       "      <th>SalePrice</th>\n",
       "    </tr>\n",
       "    <tr>\n",
       "      <th>Id</th>\n",
       "      <th></th>\n",
       "    </tr>\n",
       "  </thead>\n",
       "  <tbody>\n",
       "    <tr>\n",
       "      <th>1461</th>\n",
       "      <td>115037.66</td>\n",
       "    </tr>\n",
       "    <tr>\n",
       "      <th>1462</th>\n",
       "      <td>141460.00</td>\n",
       "    </tr>\n",
       "    <tr>\n",
       "      <th>1463</th>\n",
       "      <td>180080.40</td>\n",
       "    </tr>\n",
       "    <tr>\n",
       "      <th>1464</th>\n",
       "      <td>181432.00</td>\n",
       "    </tr>\n",
       "    <tr>\n",
       "      <th>1465</th>\n",
       "      <td>187866.00</td>\n",
       "    </tr>\n",
       "  </tbody>\n",
       "</table>\n",
       "</div>"
      ],
      "text/plain": [
       "      SalePrice\n",
       "Id             \n",
       "1461  115037.66\n",
       "1462  141460.00\n",
       "1463  180080.40\n",
       "1464  181432.00\n",
       "1465  187866.00"
      ]
     },
     "execution_count": 19,
     "metadata": {},
     "output_type": "execute_result"
    }
   ],
   "source": [
    "# Apply the algorithm on the transformed test data\n",
    "y_predicted = pd.DataFrame({'SalePrice': grid_rf.predict(X_test_transform)}, index=X_test.index)\n",
    "y_predicted.head()"
   ]
  },
  {
   "cell_type": "code",
   "execution_count": 20,
   "id": "f42903c9",
   "metadata": {
    "ExecuteTime": {
     "end_time": "2021-11-15T21:22:56.952760Z",
     "start_time": "2021-11-15T21:22:56.924835Z"
    }
   },
   "outputs": [],
   "source": [
    "y_predicted.to_csv('submission_rf.csv')"
   ]
  }
 ],
 "metadata": {
  "kernelspec": {
   "display_name": "Python 3 (ipykernel)",
   "language": "python",
   "name": "python3"
  },
  "language_info": {
   "codemirror_mode": {
    "name": "ipython",
    "version": 3
   },
   "file_extension": ".py",
   "mimetype": "text/x-python",
   "name": "python",
   "nbconvert_exporter": "python",
   "pygments_lexer": "ipython3",
   "version": "3.9.5"
  },
  "toc": {
   "base_numbering": 1,
   "nav_menu": {},
   "number_sections": false,
   "sideBar": true,
   "skip_h1_title": false,
   "title_cell": "Table of Contents",
   "title_sidebar": "Contents",
   "toc_cell": false,
   "toc_position": {},
   "toc_section_display": true,
   "toc_window_display": false
  },
  "varInspector": {
   "cols": {
    "lenName": 16,
    "lenType": 16,
    "lenVar": 40
   },
   "kernels_config": {
    "python": {
     "delete_cmd_postfix": "",
     "delete_cmd_prefix": "del ",
     "library": "var_list.py",
     "varRefreshCmd": "print(var_dic_list())"
    },
    "r": {
     "delete_cmd_postfix": ") ",
     "delete_cmd_prefix": "rm(",
     "library": "var_list.r",
     "varRefreshCmd": "cat(var_dic_list()) "
    }
   },
   "types_to_exclude": [
    "module",
    "function",
    "builtin_function_or_method",
    "instance",
    "_Feature"
   ],
   "window_display": false
  }
 },
 "nbformat": 4,
 "nbformat_minor": 5
}
